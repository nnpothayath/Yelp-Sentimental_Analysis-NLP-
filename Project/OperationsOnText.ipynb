{
 "cells": [
  {
   "cell_type": "code",
   "execution_count": 3,
   "metadata": {
    "collapsed": true
   },
   "outputs": [],
   "source": [
    "# To put the data into the prettytable\n",
    "from prettytable import PrettyTable\n",
    "from collections import Counter\n",
    "from matplotlib import pyplot as plt\n",
    "import pandas as pd\n",
    "\n",
    "from textblob import TextBlob\n",
    "import re\n",
    "from nltk.sentiment.vader import SentimentIntensityAnalyzer\n",
    "from nltk.corpus import stopwords\n",
    "\n",
    "import nltk\n",
    "nltk.download('stopwords')\n",
    "nltk.download('vader_lexicon')"
   ]
  },
  {
   "cell_type": "code",
   "execution_count": 4,
   "metadata": {
    "collapsed": true
   },
   "outputs": [],
   "source": [
    "def getTopWordsForAllReviews(clean_reviews):\n",
    "    word = []\n",
    "    for text in clean_reviews:\n",
    "        for w in text.split():\n",
    "            word.append(w)\n",
    "    filter_words = [word for word in word if word not in stopwords.words('english')]\n",
    "\n",
    "    word_freq = Counter(filter_words)\n",
    "    top_word = PrettyTable(field_names=['Word','Count']) # Header\n",
    "    row_num = 0 # number of rows in table\n",
    "    for item in word_freq.most_common()[:10]:\n",
    "        top_word.add_row(item) # Adding rows\n",
    "    top_word.align['Word'], top_word.align['Count'] = 'c', 'r' # Set column alignment\n",
    "    print (top_word)\n",
    "    return filter_words\n",
    "    \n",
    "def getPolarityOfAReview(review):\n",
    "\n",
    "    # create TextBlob object of passed review text\n",
    "    analysis = TextBlob(review)\n",
    "\n",
    "    # set sentiment\n",
    "    if analysis.sentiment.polarity > 0:\n",
    "        return 'positive'\n",
    "    elif analysis.sentiment.polarity == 0:\n",
    "        return 'neutral'\n",
    "    else:\n",
    "        return 'negative'\n",
    "    \n",
    "def getSentimentOfAReview(clean_reviews):\n",
    "    reviewAndSentiment = pd.DataFrame(columns=['Review','Sentiment'])\n",
    "    for i in range(len(clean_reviews)):\n",
    "        sentiment = getPolarityOfAReview(clean_reviews[i])\n",
    "        reviewAndSentiment = reviewAndSentiment.append({'Review':clean_reviews[i], 'Sentiment':sentiment}, ignore_index=True)\n",
    "    return reviewAndSentiment\n",
    "\n",
    "\n",
    "def getPositiveAndNegativeReviews(reviewAndSentiment):\n",
    "    previews = [reviewAndSentiment['Review'][i] for i in range(len(reviewAndSentiment)) if reviewAndSentiment['Sentiment'][i] == 'positive']\n",
    "\n",
    "    nreviews = [reviewAndSentiment['Review'][i] for i in range(len(reviewAndSentiment)) if reviewAndSentiment['Sentiment'][i] == 'negative']\n",
    "    \n",
    "    percentagePositiveReviews = 100*len(previews)/len(reviewAndSentiment)\n",
    "    percentageNegativeReviews = 100*len(nreviews)/len(reviewAndSentiment)\n",
    "    \n",
    "    print(\"Percentage of positive reviews =\",percentagePositiveReviews)\n",
    "    print(\"Percentage of negative reviews =\",percentageNegativeReviews)\n",
    "    \n",
    "    return previews, nreviews\n",
    "#print(get_review_sentiment('today is not a good day'))    \n",
    "\n",
    "\n",
    "def getWords(text):\n",
    "    return re.compile('\\w+').findall(text)\n",
    "\n",
    "\n",
    "def getPositiveNegativeWordList(clean_reviews):\n",
    "    sid = SentimentIntensityAnalyzer()\n",
    "    pos_word_list=[]\n",
    "    neu_word_list=[]\n",
    "    neg_word_list=[]\n",
    "\n",
    "    wordsFromReviews = []\n",
    "\n",
    "    for i in range(len(clean_reviews)):\n",
    "        wordsFromReviews.append(getWords(clean_reviews[i]))\n",
    "\n",
    "    wordsFromReviews = list(set(wordsFromReviews[0]))\n",
    "\n",
    "    for word in wordsFromReviews:\n",
    "        if (sid.polarity_scores(word)['compound']) >= 0.3:\n",
    "            pos_word_list.append(word)\n",
    "        elif (sid.polarity_scores(word)['compound']) <= -0.1:\n",
    "            neg_word_list.append(word)\n",
    "        else:\n",
    "            neu_word_list.append(word)                \n",
    "\n",
    "    return pos_word_list, neu_word_list, neg_word_list"
   ]
  },
  {
   "cell_type": "code",
   "execution_count": null,
   "metadata": {
    "collapsed": true
   },
   "outputs": [],
   "source": []
  }
 ],
 "metadata": {
  "kernelspec": {
   "display_name": "Python 3",
   "language": "python",
   "name": "python3"
  },
  "language_info": {
   "codemirror_mode": {
    "name": "ipython",
    "version": 3
   },
   "file_extension": ".py",
   "mimetype": "text/x-python",
   "name": "python",
   "nbconvert_exporter": "python",
   "pygments_lexer": "ipython3",
   "version": "3.6.1"
  }
 },
 "nbformat": 4,
 "nbformat_minor": 2
}
